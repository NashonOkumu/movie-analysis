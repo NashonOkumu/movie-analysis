{
 "cells": [
  {
   "cell_type": "markdown",
   "metadata": {},
   "source": [
    "# Final Project Submission\n",
    "\n",
    "Please fill out:\n",
    "* Student name: Nashon Okumu \n",
    "* Student pace: Full time Remote\n",
    "* Scheduled project review date/time: 22/03/2024\n",
    "* Instructor name: Asha Deen\n",
    "* Blog post URL:\n"
   ]
  },
  {
   "cell_type": "markdown",
   "metadata": {},
   "source": [
    "# Movie Analysis\n",
    "This project aims at conducting an EDA to advice microsft in creating a new movie studio based on the films that are currently doing the best."
   ]
  },
  {
   "cell_type": "markdown",
   "metadata": {},
   "source": [
    "### Business Understanding\n",
    "\n",
    "As a tech giant, microsfot is seeking to diversify its portfolio by venturing into the movie industry. The company is seeking to leverage its resources and brand to establish a new movie studio. Microsft needs to have thorough analysis and insights that would inform its decision based on the available data.\n",
    "\n",
    "* OBJECTIVE: The goal of microsft is to establish a new and succesful movie studies producing films with high box office returns and critical acclaim.\n",
    "* CHALLENGES: Despite microsft's diverse talent pool, it lacks experience on the movie industry including genre trends, audience preferences and factors influencing box office success.\n",
    "* IMPORTANCE OF EDA: This important to provide insights on the movie industry landscape. It will enable microsoft to gain valuable insight to guides strategic decision making on types of movies to produce as well as target demographics.\n",
    "* DECISION SUPPORT: The findings from EDA will help inform Microsoft's decisin on head of new movies studies, talent acquisition, resource allocation and content creation.\n",
    "* LONG-TERM VISION: Microsft's venture into the movie industry shows a long-term potential investement. It is important to have insights on the market dynamics and consumer preferences to establish a sustainable and successful movie studio"
   ]
  },
  {
   "cell_type": "code",
   "execution_count": 1,
   "metadata": {},
   "outputs": [],
   "source": [
    "#importing necessary libararies\n",
    "import pandas as pd\n",
    "import sqlite3\n",
    "import matplotlib.pyplot as plt\n",
    "import seaborn as sns\n",
    "%matplotlib inline"
   ]
  },
  {
   "cell_type": "markdown",
   "metadata": {},
   "source": [
    "### Data Understanding"
   ]
  },
  {
   "cell_type": "code",
   "execution_count": 12,
   "metadata": {},
   "outputs": [
    {
     "ename": "TypeError",
     "evalue": "expected str, bytes or os.PathLike object, not _io.BytesIO",
     "output_type": "error",
     "traceback": [
      "\u001b[1;31m---------------------------------------------------------------------------\u001b[0m",
      "\u001b[1;31mTypeError\u001b[0m                                 Traceback (most recent call last)",
      "\u001b[1;32m<ipython-input-12-bbc55076cf88>\u001b[0m in \u001b[0;36m<module>\u001b[1;34m\u001b[0m\n\u001b[0;32m     15\u001b[0m \u001b[1;33m\u001b[0m\u001b[0m\n\u001b[0;32m     16\u001b[0m \u001b[1;31m# Connect to the SQLite database from the in-memory content\u001b[0m\u001b[1;33m\u001b[0m\u001b[1;33m\u001b[0m\u001b[1;33m\u001b[0m\u001b[0m\n\u001b[1;32m---> 17\u001b[1;33m \u001b[0mimdb\u001b[0m \u001b[1;33m=\u001b[0m \u001b[0msqlite3\u001b[0m\u001b[1;33m.\u001b[0m\u001b[0mconnect\u001b[0m\u001b[1;33m(\u001b[0m\u001b[0mio\u001b[0m\u001b[1;33m.\u001b[0m\u001b[0mBytesIO\u001b[0m\u001b[1;33m(\u001b[0m\u001b[0mdb_content\u001b[0m\u001b[1;33m)\u001b[0m\u001b[1;33m)\u001b[0m\u001b[1;33m\u001b[0m\u001b[1;33m\u001b[0m\u001b[0m\n\u001b[0m\u001b[0;32m     18\u001b[0m \u001b[1;33m\u001b[0m\u001b[0m\n\u001b[0;32m     19\u001b[0m \u001b[1;31m# q1='''\u001b[0m\u001b[1;33m\u001b[0m\u001b[1;33m\u001b[0m\u001b[1;33m\u001b[0m\u001b[0m\n",
      "\u001b[1;31mTypeError\u001b[0m: expected str, bytes or os.PathLike object, not _io.BytesIO"
     ]
    }
   ],
   "source": [
    "# #Loading Data\n",
    "# bom = pd.read_csv('zippedData/bom.movie_gross.csv.gz')\n",
    "# tmdb = pd.read_csv('zippedData/tmdb.movies.csv.gz')\n",
    "# imdb = sqlite3.connect('zippedData/im.db.zip')\n",
    "\n",
    "import zipfile\n",
    "import io\n",
    "\n",
    "# Open the ZIP archive\n",
    "with zipfile.ZipFile('zippedData/im.db.zip') as zf:\n",
    "    # Extract the database file into memory\n",
    "    with zf.open('im.db') as db_file:\n",
    "        # Read the contents of the database file\n",
    "        db_content = db_file.read()\n",
    "\n",
    "# Connect to the SQLite database from the in-memory content\n",
    "imdb = sqlite3.connect(io.BytesIO(db_content))\n",
    " \n",
    "# q1='''\n",
    "#     SELECT genres, COUNT(movie_id) as totalMovies\n",
    "#     FROM movie_basics\n",
    "#     GROUP BY genres\n",
    "#     ORDER BY totalMovies DESC\n",
    "#     LIMIT 15;\n",
    "# '''\n",
    "# genres_top=pd.read_sql(q1, imdb)\n",
    "# genres_top"
   ]
  },
  {
   "cell_type": "markdown",
   "metadata": {},
   "source": [
    "### Data Preparation"
   ]
  },
  {
   "cell_type": "code",
   "execution_count": null,
   "metadata": {},
   "outputs": [],
   "source": []
  },
  {
   "cell_type": "markdown",
   "metadata": {},
   "source": [
    "### Data Analysis"
   ]
  },
  {
   "cell_type": "code",
   "execution_count": null,
   "metadata": {},
   "outputs": [],
   "source": []
  },
  {
   "cell_type": "markdown",
   "metadata": {},
   "source": [
    "### Data Visualization"
   ]
  },
  {
   "cell_type": "code",
   "execution_count": null,
   "metadata": {},
   "outputs": [],
   "source": []
  },
  {
   "cell_type": "code",
   "execution_count": null,
   "metadata": {},
   "outputs": [],
   "source": []
  }
 ],
 "metadata": {
  "kernelspec": {
   "display_name": "Python 3",
   "language": "python",
   "name": "python3"
  },
  "language_info": {
   "codemirror_mode": {
    "name": "ipython",
    "version": 3
   },
   "file_extension": ".py",
   "mimetype": "text/x-python",
   "name": "python",
   "nbconvert_exporter": "python",
   "pygments_lexer": "ipython3",
   "version": "3.8.5"
  }
 },
 "nbformat": 4,
 "nbformat_minor": 2
}
